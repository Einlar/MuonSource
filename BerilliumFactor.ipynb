{
 "cells": [
  {
   "cell_type": "markdown",
   "metadata": {},
   "source": [
    "The differential cross section definition comes from\n",
    "\n",
    "$$\\frac{N_S}{T}=\\sigma \\phi_1 N_2 $$\n",
    "\n",
    "Where $N_S$ is the number of scattered events, T the time $\\sigma$ the cross section $phi$ the incident particle flux and $N_2$ the number of target particles. We know that $N_2 =n_2V$ wher V is the volume and $n_2$ the numeric density of particles.\n",
    "\n",
    "Then is we suppose an ideal beam that is concetrated in a point we can assume that the section of interaction is the area of a berillium atom, we also know the lenght of the target so $V=\\pi r_{Be}^2L_T$.\n",
    "\n",
    "The numeric density is \n",
    "$$n_2= \\frac{\\rho_{Be}}{M_{Be}}N_A$$ \n",
    "where $\\rho$ is the density and $M$ the atomic mass (equal to the molar mass)\n",
    "\n",
    "The the number of events over time becomes\n",
    "$$\\frac{N_S}{T}=3\\sigma \\phi_1\\frac{\\rho_{Be}}{M_{Be}}N_AL_T\\pi r_{Be}^2L_T$$\n",
    "\n",
    "Where the 3 factor comes from the fact that every atom has 3 electrons which the positron can interact with"
   ]
  },
  {
   "cell_type": "code",
   "execution_count": 9,
   "metadata": {},
   "outputs": [],
   "source": [
    "import math\n",
    "\n",
    "sigma = 0.921785e-30 #cm -> e-30cm = ub\n",
    "phi = 10**6 #Hz\n",
    "rhoBe = 1.848 #g/cm3\n",
    "MBe = 9.012 #g/mol\n",
    "#rBe = 112e-10 #cm -> e-10cm = pm\n",
    "rBe=1 #cm\n",
    "LT = 6 #cm\n",
    "NA= 6.022e22 #1/mol\n",
    "T= 3600*24*7 #secondi in una settimana\n",
    "\n",
    "#calcoliamo il rate di eventi al secondo\n",
    "Ns_T= 3*sigma*phi*rhoBe*NA*LT*math.pi*(rBe**2)/MBe\n",
    "Ns=Ns_T*T\n"
   ]
  },
  {
   "cell_type": "code",
   "execution_count": 10,
   "metadata": {},
   "outputs": [
    {
     "name": "stdout",
     "output_type": "stream",
     "text": [
      "events per second 0.6436852382304088\n",
      "events in a week  389300.83208175126\n"
     ]
    }
   ],
   "source": [
    "print(\"events per second\", Ns_T)\n",
    "print(\"events in a week \", Ns)"
   ]
  },
  {
   "cell_type": "code",
   "execution_count": 11,
   "metadata": {},
   "outputs": [
    {
     "name": "stdout",
     "output_type": "stream",
     "text": [
      "2.3276766933374154e+23\n"
     ]
    }
   ],
   "source": [
    "print(rhoBe*NA*LT*math.pi*(rBe**2)/MBe)"
   ]
  },
  {
   "cell_type": "markdown",
   "metadata": {},
   "source": [
    "Let's compute the variation in the the trajectory induced by the presence of a magnet, each particle is identified by it's position at the end of the berillium block and it's tri-momentum at the exit.\n",
    "\n",
    "We know that the relativistic motion in an uniform magnetic field along the z-axis has the following EOM:\n",
    "$$ \n",
    "    \\begin{cases}\n",
    "    x(t)= x_0 + \\frac{|v_{pe}|}{\\omega}\\sin (\\omega t -\\alpha)\\\\\n",
    "    y(t)= y_0 + \\frac{|v_{pe}|}{\\omega}\\cos (\\omega t -\\alpha)\\\\\n",
    "    z(t)= z_0 + v_{0z}t\n",
    "    \\end{cases} \n",
    "$$\n",
    "and the tri-momentum are\n",
    "$$\n",
    "    \\begin{cases}\n",
    "    p_x(t)= \\sqrt{p_{0x}^2+p_{0y}^2}\\cos (\\omega t -\\alpha)\\\\\n",
    "    p_y(t)= \\sqrt{p_{0x}^2+p_{0y}^2}\\sin (\\omega t -\\alpha)\\\\\n",
    "    p_z(t)= p_{z0}\n",
    "    \\end{cases} \n",
    "$$\n",
    "\n",
    "Where\n",
    "\n",
    "$$\n",
    "\\omega =\\frac{qB}{m\\gamma} \\qquad \\alpha=-arctan \\frac{v_{0y}}{v_{0x}}=-arctan \\frac{p_{0y}}{p_{0x}}\n",
    "$$\n",
    "\n",
    "Since the realtion between momentum and velocity is $p_i=\\gamma mv_i$  we have\n",
    "$$\n",
    "v_{pe}=\\sqrt{v_{0x}^2+v_{0y}^2} \\implies \\frac{|v_{pe}|}{\\omega}=\\frac{\\sqrt{p_{0x}^2+p_{0y}^2}}{qB}\n",
    "$$\n",
    "\n",
    "Since we know where the position along the x axis where the magnet ends is we can compute the time travel inverting the first equation and then substitute to have the final position of the particle\n",
    "\n",
    "$$\n",
    "\\omega t=\\alpha + arcsen( x(\\hat{t})- \\frac{|v_{pe}|}{\\omega})\n",
    "$$\n",
    "\n",
    "After the magnet the EOM is the one of a free particle."
   ]
  },
  {
   "cell_type": "code",
   "execution_count": 6,
   "metadata": {},
   "outputs": [],
   "source": [
    "#let's put the values\n",
    "import scipy as sp\n",
    "import math\n",
    "import numpy as np\n",
    "q=1.602176634e-19 #C\n",
    "B=1.7 #T\n",
    "c=3e8 #m/s\n",
    "mmu=105.6583755\n",
    "qB=q*B #devo moltiplicare per c?\n"
   ]
  },
  {
   "cell_type": "code",
   "execution_count": 15,
   "metadata": {},
   "outputs": [],
   "source": [
    "#this function requires 2 array one with the 3 position component and one with the momentum ones and how many meters the field is long\n",
    "#and return the final position and momentum\n",
    "def bend_particle (position, momentum, meters):\n",
    "    p=np.linalg.norm(momentum) #modulo del momento\n",
    "    beta= p/math.sqrt(p**2+mmu**2)\n",
    "    gamma=1/math.sqrt(1-beta**2)\n",
    "    alpha=-math.arctan(momentum[1]/momentum[0]) #fase nel sen e coseno\n",
    "    v_w = math.sqrt(momentum[0]**2+momentum[1]**2)*(10**6)/qB #rapporto v perperdicolare su omega, il 10^6 è perche il momento è in Mev\n",
    "    wt=alpha+math.arcsin(meters-w_w) #omega per tempo\n",
    "    final_momentum=[] #arrays for final results\n",
    "    final_position=[]\n",
    "    final_position.append(position[0]+meters) #final x position\n",
    "    final_position.append(position[1]+v_w*math.cos(wt-alpha)) #final y position\n",
    "    final_position.append(position[2]+momentum[2]*wt/qB) #final z position rewritten in terms of stuff i know\n",
    "    final_momentum.append(math.sqrt(momentum[0]**2+momentum[1]**2)*math.cos(wt-alpha)) #final x momentum\n",
    "    final_momentum.append(math.sqrt(momentum[1]**2+momentum[1]**2)*math.sin(wt-alpha)) #final y momentum\n",
    "    final_momentum.append(momentum[2]) #final z momentum\n",
    "    return final_position, final_momentum\n",
    "\n",
    "#this function requires 2 array one with the 3 position component and one with the momentum ones and how many meters it travels\n",
    "#and returns final poswition and momentum\n",
    "def free_particle(position, momentum, meters) \n",
    "    p=np.linalg.norm(momentum) #modulo del momento\n",
    "    beta= p/math.sqrt(p**2+mmu**2)\n",
    "    gamma=1/math.sqrt(1-beta**2)\n",
    "    final_position=[]\n",
    "    time=mmu*gamma*meters/momentum[0] #time travel on the x axis\n",
    "    final_position.append(position[0]+meters) #final x position\n",
    "    final_position.append(position[1]+momentum[1]*time/(mmu*gamma)) #final y position\n",
    "    final_position.append(position[2]+momentum[2]*time/(mmu*gamma)) #final z position\n",
    "   "
   ]
  },
  {
   "cell_type": "code",
   "execution_count": 12,
   "metadata": {},
   "outputs": [
    {
     "data": {
      "text/plain": [
       "5.0"
      ]
     },
     "execution_count": 12,
     "metadata": {},
     "output_type": "execute_result"
    }
   ],
   "source": []
  },
  {
   "cell_type": "code",
   "execution_count": null,
   "metadata": {},
   "outputs": [],
   "source": []
  }
 ],
 "metadata": {
  "kernelspec": {
   "display_name": "Python 3",
   "language": "python",
   "name": "python3"
  },
  "language_info": {
   "codemirror_mode": {
    "name": "ipython",
    "version": 3
   },
   "file_extension": ".py",
   "mimetype": "text/x-python",
   "name": "python",
   "nbconvert_exporter": "python",
   "pygments_lexer": "ipython3",
   "version": "3.7.3"
  }
 },
 "nbformat": 4,
 "nbformat_minor": 4
}
